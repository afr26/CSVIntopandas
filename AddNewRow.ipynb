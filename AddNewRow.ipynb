{
 "cells": [
  {
   "cell_type": "code",
   "execution_count": 19,
   "metadata": {},
   "outputs": [
    {
     "data": {
      "text/html": [
       "<div>\n",
       "<style scoped>\n",
       "    .dataframe tbody tr th:only-of-type {\n",
       "        vertical-align: middle;\n",
       "    }\n",
       "\n",
       "    .dataframe tbody tr th {\n",
       "        vertical-align: top;\n",
       "    }\n",
       "\n",
       "    .dataframe thead th {\n",
       "        text-align: right;\n",
       "    }\n",
       "</style>\n",
       "<table border=\"1\" class=\"dataframe\">\n",
       "  <thead>\n",
       "    <tr style=\"text-align: right;\">\n",
       "      <th></th>\n",
       "      <th>name</th>\n",
       "      <th>attack</th>\n",
       "      <th>type</th>\n",
       "      <th>date</th>\n",
       "    </tr>\n",
       "  </thead>\n",
       "  <tbody>\n",
       "    <tr>\n",
       "      <th>0</th>\n",
       "      <td>Bulbasaur</td>\n",
       "      <td>49</td>\n",
       "      <td>grass</td>\n",
       "      <td>111111</td>\n",
       "    </tr>\n",
       "    <tr>\n",
       "      <th>1</th>\n",
       "      <td>Ivysaur</td>\n",
       "      <td>62</td>\n",
       "      <td>grass</td>\n",
       "      <td>111111</td>\n",
       "    </tr>\n",
       "    <tr>\n",
       "      <th>2</th>\n",
       "      <td>NaN</td>\n",
       "      <td>NaN</td>\n",
       "      <td>water</td>\n",
       "      <td>111111</td>\n",
       "    </tr>\n",
       "    <tr>\n",
       "      <th>3</th>\n",
       "      <td>Sandslash</td>\n",
       "      <td>100</td>\n",
       "      <td>ground</td>\n",
       "      <td>111111</td>\n",
       "    </tr>\n",
       "  </tbody>\n",
       "</table>\n",
       "</div>"
      ],
      "text/plain": [
       "        name attack    type    date\n",
       "0  Bulbasaur     49   grass  111111\n",
       "1    Ivysaur     62   grass  111111\n",
       "2        NaN    NaN   water  111111\n",
       "3  Sandslash    100  ground  111111"
      ]
     },
     "execution_count": 19,
     "metadata": {},
     "output_type": "execute_result"
    }
   ],
   "source": [
    "import pandas as pd\n",
    "import numpy as np\n",
    "\n",
    "df1 = pd.DataFrame(\n",
    "    {\n",
    "        'name': ['Bulbasaur', 'Ivysaur', 'NaN', 'Sandslash'],\n",
    "        'attack': [49, 62, 'NaN', 100],\n",
    "        'type': ['grass', 'grass', 'water', 'ground']\n",
    "        \n",
    "    }, columns=['name', 'attack', 'type']\n",
    ")\n",
    "\n",
    "\n",
    "\n",
    "new_data = '111111'\n",
    "\n",
    "df1['date'] = pd.Series(new_data)\n",
    "Replace NaN for new da\n",
    "df1.fillna( {'date': new_data}, inplace=True )\n",
    "df1"
   ]
  }
 ],
 "metadata": {
  "kernelspec": {
   "display_name": "Python 3",
   "language": "python",
   "name": "python3"
  },
  "language_info": {
   "codemirror_mode": {
    "name": "ipython",
    "version": 3
   },
   "file_extension": ".py",
   "mimetype": "text/x-python",
   "name": "python",
   "nbconvert_exporter": "python",
   "pygments_lexer": "ipython3",
   "version": "3.6.2"
  }
 },
 "nbformat": 4,
 "nbformat_minor": 2
}
