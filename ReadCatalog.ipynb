{
 "cells": [
  {
   "cell_type": "markdown",
   "metadata": {},
   "source": [
    " ### Se leen los datos del CSV y se renombran las columnas"
   ]
  },
  {
   "cell_type": "code",
   "execution_count": 1,
   "metadata": {
    "scrolled": false
   },
   "outputs": [],
   "source": [
    "from sqlalchemy import create_engine, MetaData\n",
    "import pandas as pd\n",
    "import numpy as np\n",
    "import json\n",
    "\n",
    "\n",
    "catalog = pd.read_csv('data/MA_NO_2018_09_001.xml.csv', engine='python', error_bad_lines=False, warn_bad_lines=False)\n",
    "# catalog = catalog.to_dict(orient='record')\n",
    "# catalog = json.loads(catalog.to_json(orient='records'))\n",
    "# catalog\n",
    "\n"
   ]
  },
  {
   "cell_type": "code",
   "execution_count": null,
   "metadata": {},
   "outputs": [],
   "source": [
    "trademarks = pd.read_csv('data/MA_RE_2018_10_018.xml.csv', engine='python', error_bad_lines=False, warn_bad_lines=False)\n",
    "\n",
    "trademarks.drop(['products_services', 'holder_data', 'owner', 'residence', 'population'], axis=1, inplace=True, errors='ignore')\n",
    "\n",
    "\n",
    "trademarks = trademarks.dropna(subset=['trademark_registration'])\n",
    "# Convert to int this column\n",
    "trademarks['trademark_registration'] = trademarks['trademark_registration'].astype(int)\n",
    "# trademarks['trademark_registration']\n",
    "trademarks\n"
   ]
  },
  {
   "cell_type": "code",
   "execution_count": null,
   "metadata": {},
   "outputs": [],
   "source": []
  }
 ],
 "metadata": {
  "kernelspec": {
   "display_name": "Python 3",
   "language": "python",
   "name": "python3"
  },
  "language_info": {
   "codemirror_mode": {
    "name": "ipython",
    "version": 3
   },
   "file_extension": ".py",
   "mimetype": "text/x-python",
   "name": "python",
   "nbconvert_exporter": "python",
   "pygments_lexer": "ipython3",
   "version": "3.6.2"
  }
 },
 "nbformat": 4,
 "nbformat_minor": 2
}
