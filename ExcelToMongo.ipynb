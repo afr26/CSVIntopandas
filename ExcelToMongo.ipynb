{
 "cells": [
  {
   "cell_type": "code",
   "execution_count": 250,
   "metadata": {},
   "outputs": [],
   "source": [
    "# Don't forget install xlrd\n",
    "import pandas as pd\n",
    "import numpy as np\n",
    "\n",
    "xlsx = pd.read_excel(\"data/MX-lista-20190107.xlsx\")\n",
    "xlsx = xlsx.rename(index=str, columns={'Dow Reference': 'reference',\n",
    "                                       'Application Num': 'application', \n",
    "                                       'Grant/Issue Num': 'grant'})\n"
   ]
  },
  {
   "cell_type": "code",
   "execution_count": 254,
   "metadata": {
    "scrolled": true
   },
   "outputs": [],
   "source": [
    "\n",
    "xlsx = xlsx.dropna(subset=['application'])\n",
    "xlsx['grant'].fillna(0, inplace=True)\n",
    "data = xlsx[xlsx['application'].str.contains(\"MX/\")]\n",
    "# data"
   ]
  }
 ],
 "metadata": {
  "kernelspec": {
   "display_name": "Python 3",
   "language": "python",
   "name": "python3"
  },
  "language_info": {
   "codemirror_mode": {
    "name": "ipython",
    "version": 3
   },
   "file_extension": ".py",
   "mimetype": "text/x-python",
   "name": "python",
   "nbconvert_exporter": "python",
   "pygments_lexer": "ipython3",
   "version": "3.6.2"
  }
 },
 "nbformat": 4,
 "nbformat_minor": 2
}
